{
 "cells": [
  {
   "cell_type": "code",
   "execution_count": 2,
   "id": "d8a40f2b-c53c-42ee-8fb8-0d92c502cf21",
   "metadata": {},
   "outputs": [],
   "source": [
    "# !pip install PyPDF2 "
   ]
  },
  {
   "cell_type": "code",
   "execution_count": 103,
   "id": "1513779e-2c29-442d-8325-1ec9bf12ff81",
   "metadata": {},
   "outputs": [],
   "source": [
    "pages = list(range(1,307))"
   ]
  },
  {
   "cell_type": "code",
   "execution_count": 104,
   "id": "c5aeda26-6f22-4d79-ba85-583404085b08",
   "metadata": {},
   "outputs": [],
   "source": [
    "fin_pages = []"
   ]
  },
  {
   "cell_type": "code",
   "execution_count": 105,
   "id": "62136ba1-9d92-420e-af2a-005bbdbd765a",
   "metadata": {},
   "outputs": [],
   "source": [
    "for i in range(0, (len(pages))//2, 2):\n",
    "    fin_pages.append(pages[-i-1])\n",
    "    fin_pages.append(pages[i])\n",
    "    fin_pages.append(pages[i+1])\n",
    "    fin_pages.append(pages[-i-2])\n",
    "    \n"
   ]
  },
  {
   "cell_type": "code",
   "execution_count": 107,
   "id": "19bf1cd7-f6c5-409d-9ad2-4b7d8c3aae7e",
   "metadata": {},
   "outputs": [],
   "source": [
    "# fin_pages"
   ]
  },
  {
   "cell_type": "code",
   "execution_count": 108,
   "id": "6a4cced3-186a-492b-8ab9-70dda8214ea7",
   "metadata": {},
   "outputs": [],
   "source": [
    "from PyPDF2 import PdfFileReader, PdfFileWriter"
   ]
  },
  {
   "cell_type": "code",
   "execution_count": 109,
   "id": "115ffda3-d79c-4948-919b-fba034605fd8",
   "metadata": {},
   "outputs": [],
   "source": [
    "pdf_document = \"mhadik pharmaceutical chrmistry_compressed.pdf\"\n",
    "pdf = PdfFileReader(pdf_document)\n",
    "pdf_blank = \"blank.pdf\"\n",
    "pdf_b = PdfFileReader(pdf_blank)"
   ]
  },
  {
   "cell_type": "code",
   "execution_count": 110,
   "id": "03cd1378-e3ca-4903-b371-511d2be870e2",
   "metadata": {},
   "outputs": [
    {
     "data": {
      "text/plain": [
       "305"
      ]
     },
     "execution_count": 110,
     "metadata": {},
     "output_type": "execute_result"
    }
   ],
   "source": [
    "pdf.getNumPages()"
   ]
  },
  {
   "cell_type": "code",
   "execution_count": 111,
   "id": "c907aaed-b59b-45f5-aaf6-8571910ca3c3",
   "metadata": {},
   "outputs": [],
   "source": [
    "pdf_writer = PdfFileWriter()"
   ]
  },
  {
   "cell_type": "code",
   "execution_count": 112,
   "id": "72789c1d-8c66-4652-9152-9aff1513f741",
   "metadata": {},
   "outputs": [],
   "source": [
    "pdf_writer.addPage(pdf_b.getPage(0))\n",
    "pdf_writer.addPage(pdf_b.getPage(0))"
   ]
  },
  {
   "cell_type": "code",
   "execution_count": 113,
   "id": "b9f6a84c-6c04-49e9-8c6a-9b110b2c1d04",
   "metadata": {},
   "outputs": [],
   "source": [
    "for page in fin_pages:\n",
    "    # print(page)\n",
    "    if page == 306:\n",
    "        pdf_writer.addPage(pdf_b.getPage(0))\n",
    "    else:\n",
    "        pdf_writer.addPage(pdf.getPage(page-1))\n",
    "#     current_page = pdf.getPage(page)\n",
    "#     print(current_page)\n",
    "#     pdf_writer.addPage(current_page)\n",
    "\n",
    "#     outputFilename = \"example-page-{}.pdf\".format(page + 1)\n",
    "#     with open(outputFilename, \"wb\") as out:\n",
    "#         pdf_writer.write(out)\n",
    "\n",
    "#         print(\"created\", outputFilename)"
   ]
  },
  {
   "cell_type": "code",
   "execution_count": 114,
   "id": "48b10715-ef70-406d-a9e9-2bd2069fd20a",
   "metadata": {},
   "outputs": [],
   "source": [
    "outputFilename = \"final_single.pdf\"\n",
    "with open(outputFilename, \"wb\") as out:\n",
    "    pdf_writer.write(out)\n"
   ]
  },
  {
   "cell_type": "code",
   "execution_count": null,
   "id": "0e059e33-f830-4e27-8cf9-17d90263cee6",
   "metadata": {},
   "outputs": [],
   "source": []
  }
 ],
 "metadata": {
  "kernelspec": {
   "display_name": "Python 3 (ipykernel)",
   "language": "python",
   "name": "python3"
  },
  "language_info": {
   "codemirror_mode": {
    "name": "ipython",
    "version": 3
   },
   "file_extension": ".py",
   "mimetype": "text/x-python",
   "name": "python",
   "nbconvert_exporter": "python",
   "pygments_lexer": "ipython3",
   "version": "3.9.9"
  }
 },
 "nbformat": 4,
 "nbformat_minor": 5
}
